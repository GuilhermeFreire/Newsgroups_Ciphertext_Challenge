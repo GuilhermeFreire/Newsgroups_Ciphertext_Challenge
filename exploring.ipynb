{
 "cells": [
  {
   "cell_type": "code",
   "execution_count": 1,
   "metadata": {},
   "outputs": [],
   "source": [
    "import numpy as np\n",
    "import pandas as pd\n",
    "import matplotlib.pyplot as plt"
   ]
  },
  {
   "cell_type": "code",
   "execution_count": 2,
   "metadata": {},
   "outputs": [
    {
     "data": {
      "text/html": [
       "<div>\n",
       "<style scoped>\n",
       "    .dataframe tbody tr th:only-of-type {\n",
       "        vertical-align: middle;\n",
       "    }\n",
       "\n",
       "    .dataframe tbody tr th {\n",
       "        vertical-align: top;\n",
       "    }\n",
       "\n",
       "    .dataframe thead th {\n",
       "        text-align: right;\n",
       "    }\n",
       "</style>\n",
       "<table border=\"1\" class=\"dataframe\">\n",
       "  <thead>\n",
       "    <tr style=\"text-align: right;\">\n",
       "      <th></th>\n",
       "      <th>Id</th>\n",
       "      <th>difficulty</th>\n",
       "      <th>ciphertext</th>\n",
       "      <th>target</th>\n",
       "    </tr>\n",
       "  </thead>\n",
       "  <tbody>\n",
       "    <tr>\n",
       "      <th>0</th>\n",
       "      <td>ID_88b9bbd73</td>\n",
       "      <td>4</td>\n",
       "      <td>ob|I\u0006\f",
       "K?zzhX*L{83B3Z,\u0006FuL*Pusm$83L\\t@r$$*38,8s...</td>\n",
       "      <td>10</td>\n",
       "    </tr>\n",
       "    <tr>\n",
       "      <th>1</th>\n",
       "      <td>ID_f489bd59f</td>\n",
       "      <td>1</td>\n",
       "      <td>c1|FaAO120O'8o\u0002vfoy1W#at\u001bvGs1[1s1[1/1]O-a8o1-\u001b...</td>\n",
       "      <td>13</td>\n",
       "    </tr>\n",
       "    <tr>\n",
       "      <th>2</th>\n",
       "      <td>ID_f90fee9c7</td>\n",
       "      <td>2</td>\n",
       "      <td>1*e4N8$f$0ccOui\u0018hkHek\u001a$\u0010k*\u001aV*hoe\u0010V\u001a$Hj8\bV\u0003hH8...</td>\n",
       "      <td>19</td>\n",
       "    </tr>\n",
       "    <tr>\n",
       "      <th>3</th>\n",
       "      <td>ID_8303ced65</td>\n",
       "      <td>1</td>\n",
       "      <td>O8v^10\u001bO#to1'#^'^\u0002\u001b\u0002tv1^]s111t0\u001b1O\u0002taq&gt;\u001b-ata_1...</td>\n",
       "      <td>17</td>\n",
       "    </tr>\n",
       "    <tr>\n",
       "      <th>4</th>\n",
       "      <td>ID_72abc2cb7</td>\n",
       "      <td>2</td>\n",
       "      <td>e\u001aV}H\u001a}kh\u001afe4b8'S.Vc}{A\f",
       "\f",
       ".#VikV.\u001afV?{$f7\u001a$Hjb8...</td>\n",
       "      <td>0</td>\n",
       "    </tr>\n",
       "  </tbody>\n",
       "</table>\n",
       "</div>"
      ],
      "text/plain": [
       "             Id  difficulty  \\\n",
       "0  ID_88b9bbd73           4   \n",
       "1  ID_f489bd59f           1   \n",
       "2  ID_f90fee9c7           2   \n",
       "3  ID_8303ced65           1   \n",
       "4  ID_72abc2cb7           2   \n",
       "\n",
       "                                          ciphertext  target  \n",
       "0  ob|I\u0006\n",
       "K?zzhX*L{83B3Z,\u0006FuL*Pusm$83L\\t@r$$*38,8s...      10  \n",
       "1  c1|FaAO120O'8o\u0002vfoy1W#at\u001bvGs1[1s1[1/1]O-a8o1-\u001b...      13  \n",
       "2  1*e4N8$f$0ccOui\u0018hkHek\u001a$\u0010k*\u001aV*hoe\u0010V\u001a$Hj8\bV\u0003hH8...      19  \n",
       "3  O8v^10\u001bO#to1'#^'^\u0002\u001b\u0002tv1^]s111t0\u001b1O\u0002taq>\u001b-ata_1...      17  \n",
       "4  e\u001aV}H\u001a}kh\u001afe4b8'S.Vc}{A\n",
       "\n",
       ".#VikV.\u001afV?{$f7\u001a$Hjb8...       0  "
      ]
     },
     "execution_count": 2,
     "metadata": {},
     "output_type": "execute_result"
    }
   ],
   "source": [
    "train_data = pd.read_csv(\"train.csv\")\n",
    "train_data.head()"
   ]
  },
  {
   "cell_type": "code",
   "execution_count": 3,
   "metadata": {},
   "outputs": [
    {
     "name": "stdout",
     "output_type": "stream",
     "text": [
      "Available difficulties: dict_keys([4, 1, 2, 3])\n"
     ]
    }
   ],
   "source": [
    "data_by_level = {difficulty: train_data[train_data[\"difficulty\"] == difficulty] for difficulty in train_data[\"difficulty\"].unique()}\n",
    "print(f\"Available difficulties: {data_by_level.keys()}\")"
   ]
  },
  {
   "cell_type": "code",
   "execution_count": 4,
   "metadata": {},
   "outputs": [
    {
     "data": {
      "text/html": [
       "<div>\n",
       "<style scoped>\n",
       "    .dataframe tbody tr th:only-of-type {\n",
       "        vertical-align: middle;\n",
       "    }\n",
       "\n",
       "    .dataframe tbody tr th {\n",
       "        vertical-align: top;\n",
       "    }\n",
       "\n",
       "    .dataframe thead th {\n",
       "        text-align: right;\n",
       "    }\n",
       "</style>\n",
       "<table border=\"1\" class=\"dataframe\">\n",
       "  <thead>\n",
       "    <tr style=\"text-align: right;\">\n",
       "      <th></th>\n",
       "      <th>Id</th>\n",
       "      <th>difficulty</th>\n",
       "      <th>ciphertext</th>\n",
       "      <th>target</th>\n",
       "    </tr>\n",
       "  </thead>\n",
       "  <tbody>\n",
       "    <tr>\n",
       "      <th>1</th>\n",
       "      <td>ID_f489bd59f</td>\n",
       "      <td>1</td>\n",
       "      <td>c1|FaAO120O'8o\u0002vfoy1W#at\u001bvGs1[1s1[1/1]O-a8o1-\u001b...</td>\n",
       "      <td>13</td>\n",
       "    </tr>\n",
       "    <tr>\n",
       "      <th>3</th>\n",
       "      <td>ID_8303ced65</td>\n",
       "      <td>1</td>\n",
       "      <td>O8v^10\u001bO#to1'#^'^\u0002\u001b\u0002tv1^]s111t0\u001b1O\u0002taq&gt;\u001b-ata_1...</td>\n",
       "      <td>17</td>\n",
       "    </tr>\n",
       "    <tr>\n",
       "      <th>13</th>\n",
       "      <td>ID_850984d77</td>\n",
       "      <td>1</td>\n",
       "      <td>*#^-G1_#O-\u001b#b^'ta8a\u0002f\b2%e1|28Oot^\u000212#O-\u001b#ys1&gt;c...</td>\n",
       "      <td>18</td>\n",
       "    </tr>\n",
       "    <tr>\n",
       "      <th>15</th>\n",
       "      <td>ID_f61f4e2ab</td>\n",
       "      <td>1</td>\n",
       "      <td>*#^-G1\\HL\\5b#Oz\u001b8\bcA\u001b8\b\u001bAc1|&gt;O-c\u001b81\u001e",
       "^vvys1&gt;c\u0003X...</td>\n",
       "      <td>6</td>\n",
       "    </tr>\n",
       "    <tr>\n",
       "      <th>16</th>\n",
       "      <td>ID_d87237dcc</td>\n",
       "      <td>1</td>\n",
       "      <td>1A\u001b]\u001b\u0002v\u001b-O\u0002\b1\u0010\u001bvT10\u001b1-OA\u001b1#^^fa\u001bs1-avtOf\u001bvT1\u0003c...</td>\n",
       "      <td>10</td>\n",
       "    </tr>\n",
       "  </tbody>\n",
       "</table>\n",
       "</div>"
      ],
      "text/plain": [
       "              Id  difficulty  \\\n",
       "1   ID_f489bd59f           1   \n",
       "3   ID_8303ced65           1   \n",
       "13  ID_850984d77           1   \n",
       "15  ID_f61f4e2ab           1   \n",
       "16  ID_d87237dcc           1   \n",
       "\n",
       "                                           ciphertext  target  \n",
       "1   c1|FaAO120O'8o\u0002vfoy1W#at\u001bvGs1[1s1[1/1]O-a8o1-\u001b...      13  \n",
       "3   O8v^10\u001bO#to1'#^'^\u0002\u001b\u0002tv1^]s111t0\u001b1O\u0002taq>\u001b-ata_1...      17  \n",
       "13  *#^-G1_#O-\u001b#b^'ta8a\u0002f\b2%e1|28Oot^\u000212#O-\u001b#ys1>c...      18  \n",
       "15  *#^-G1\\HL\\5b#Oz\u001b8\bcA\u001b8\b\u001bAc1|>O-c\u001b81\n",
       "^vvys1>c\u0003X...       6  \n",
       "16  1A\u001b]\u001b\u0002v\u001b-O\u0002\b1\u0010\u001bvT10\u001b1-OA\u001b1#^^fa\u001bs1-avtOf\u001bvT1\u0003c...      10  "
      ]
     },
     "execution_count": 4,
     "metadata": {},
     "output_type": "execute_result"
    }
   ],
   "source": [
    "data_by_level[1].head()"
   ]
  },
  {
   "cell_type": "markdown",
   "metadata": {},
   "source": [
    "## Difficulty 1"
   ]
  },
  {
   "cell_type": "markdown",
   "metadata": {},
   "source": [
    "Notice how rows 13 and 15 share the same beggining"
   ]
  },
  {
   "cell_type": "code",
   "execution_count": 5,
   "metadata": {},
   "outputs": [
    {
     "data": {
      "text/html": [
       "<div>\n",
       "<style scoped>\n",
       "    .dataframe tbody tr th:only-of-type {\n",
       "        vertical-align: middle;\n",
       "    }\n",
       "\n",
       "    .dataframe tbody tr th {\n",
       "        vertical-align: top;\n",
       "    }\n",
       "\n",
       "    .dataframe thead th {\n",
       "        text-align: right;\n",
       "    }\n",
       "</style>\n",
       "<table border=\"1\" class=\"dataframe\">\n",
       "  <thead>\n",
       "    <tr style=\"text-align: right;\">\n",
       "      <th></th>\n",
       "      <th>Id</th>\n",
       "      <th>difficulty</th>\n",
       "      <th>ciphertext</th>\n",
       "      <th>target</th>\n",
       "    </tr>\n",
       "  </thead>\n",
       "  <tbody>\n",
       "    <tr>\n",
       "      <th>13</th>\n",
       "      <td>ID_850984d77</td>\n",
       "      <td>1</td>\n",
       "      <td>*#^-G1_#O-\u001b#b^'ta8a\u0002f\b2%e1|28Oot^\u000212#O-\u001b#ys1&gt;c...</td>\n",
       "      <td>18</td>\n",
       "    </tr>\n",
       "    <tr>\n",
       "      <th>15</th>\n",
       "      <td>ID_f61f4e2ab</td>\n",
       "      <td>1</td>\n",
       "      <td>*#^-G1\\HL\\5b#Oz\u001b8\bcA\u001b8\b\u001bAc1|&gt;O-c\u001b81\u001e",
       "^vvys1&gt;c\u0003X...</td>\n",
       "      <td>6</td>\n",
       "    </tr>\n",
       "  </tbody>\n",
       "</table>\n",
       "</div>"
      ],
      "text/plain": [
       "              Id  difficulty  \\\n",
       "13  ID_850984d77           1   \n",
       "15  ID_f61f4e2ab           1   \n",
       "\n",
       "                                           ciphertext  target  \n",
       "13  *#^-G1_#O-\u001b#b^'ta8a\u0002f\b2%e1|28Oot^\u000212#O-\u001b#ys1>c...      18  \n",
       "15  *#^-G1\\HL\\5b#Oz\u001b8\bcA\u001b8\b\u001bAc1|>O-c\u001b81\n",
       "^vvys1>c\u0003X...       6  "
      ]
     },
     "execution_count": 5,
     "metadata": {},
     "output_type": "execute_result"
    }
   ],
   "source": [
    "train_data.iloc[[13, 15]]"
   ]
  },
  {
   "cell_type": "markdown",
   "metadata": {},
   "source": [
    "This hints that the difficulty 1 challenges may be encrypted with simple letter substitutions. Let's assume that is the case and see where it leads us."
   ]
  },
  {
   "cell_type": "markdown",
   "metadata": {},
   "source": [
    "One of the easiest ways to encrypt text is to shift all letters by a given number (wrapping around at the end of the alphabet). Since we are dealing with bytes, there are only 256 possible shifts - completely _bruteforceable_. "
   ]
  },
  {
   "cell_type": "code",
   "execution_count": 6,
   "metadata": {},
   "outputs": [
    {
     "name": "stdout",
     "output_type": "stream",
     "text": [
      "Cipher length: 300\n",
      "c1|FaAO120O'8o\u0002vfoy1W#at\u001bvGs1[1s1[1/1]O-a8o1-\u001b-\u0003\u001b#1^]1-a\u0002\u001b1av1vc]]\u001b#a\u0002d1]#^-1O1v\u001bz\u001b#\u001b1A\u001b'#\u001bvva^\u00021\u0003#^cd0t1^\u0002s1[1\u0003o1-\u001b\u0002^'Ocv\u001b1Ov1W\u001b881Ov1O1-\u001b\u0002tO81\u0003#\u001bOf1A^W11>0\u001b1av1\u0003\u001ba\u0002d1t#\u001bOt\u001bA1Wat0s1[1gO8oA^81Wat01v^-\u001b1vc__\u001bvv1\u0003ct1t0\u001b1t#\u001bOt-\u001b\u0002tv1\u0003\u001ba\u0002d1'#^zaA\u001bA1t0#^cd010\u001b#s1[1'vo_0aOt#avt1O#\u001b1\u0002^t1vOtav]O_t^#11>^-\n"
     ]
    }
   ],
   "source": [
    "cipher_sample = data_by_level[1][\"ciphertext\"].tolist()[0]\n",
    "print(f\"Cipher length: {len(cipher_sample)}\")\n",
    "print(cipher_sample)"
   ]
  },
  {
   "cell_type": "code",
   "execution_count": 7,
   "metadata": {},
   "outputs": [],
   "source": [
    "cipher_bytes = cipher_sample.encode()\n",
    "for i in range(256):\n",
    "    shifted_cipher = \"\".join([chr((c + i)%256) for c in cipher_bytes])\n",
    "    # Commented for brevity\n",
    "    #print(f\"{'-'*100}\\nShift by: {i}\\n{shifted_cipher}\\n{'-'*100}\")"
   ]
  },
  {
   "cell_type": "markdown",
   "metadata": {},
   "source": [
    "It doesn't seem like the ecryption is merely a shift.\n",
    "\n",
    "To check if it actually is a substitution cipher, we could analyse the frequency of characters."
   ]
  },
  {
   "cell_type": "code",
   "execution_count": 8,
   "metadata": {},
   "outputs": [
    {
     "name": "stdout",
     "output_type": "stream",
     "text": [
      "102 unique characters in ciphertexts\n"
     ]
    },
    {
     "data": {
      "image/png": "[encoded data removed]",
      "text/plain": [
       "<Figure size 1296x360 with 1 Axes>"
      ]
     },
     "metadata": {},
     "output_type": "display_data"
    }
   ],
   "source": [
    "from collections import Counter\n",
    "\n",
    "char_count = Counter(\"\".join(data_by_level[1][\"ciphertext\"].values))\n",
    "ordered_cipher_chars = list(zip(*sorted(char_count.items(), key=lambda x: -x[1])))\n",
    "print(f\"{len(char_count)} unique characters in ciphertexts\")\n",
    "plt.figure(figsize=(18,5))\n",
    "plt.bar(range(len(char_count)), ordered_cipher_chars[1])\n",
    "plt.xticks(range(len(char_count)), ordered_cipher_chars[0])\n",
    "plt.show()"
   ]
  },
  {
   "cell_type": "markdown",
   "metadata": {},
   "source": [
    "Now, could compare this histogram to the frequencies of letters in English. However, we know these ciphertexts were created on the 20 Newsgroups dataset. So an even better idea would be to compare these frequencies to the frequencies of letters from the plain text dataset."
   ]
  },
  {
   "cell_type": "code",
   "execution_count": 10,
   "metadata": {},
   "outputs": [
    {
     "name": "stderr",
     "output_type": "stream",
     "text": [
      "Downloading 20news dataset. This may take a few minutes.\n",
      "Downloading dataset from https://ndownloader.figshare.com/files/5975967 (14 MB)\n"
     ]
    }
   ],
   "source": [
    "from sklearn.datasets import fetch_20newsgroups\n",
    "\n",
    "plain_data = fetch_20newsgroups(subset='all')"
   ]
  },
  {
   "cell_type": "code",
   "execution_count": 30,
   "metadata": {},
   "outputs": [
    {
     "name": "stdout",
     "output_type": "stream",
     "text": [
      "156 unique characters in plain texts\n"
     ]
    },
    {
     "data": {
      "image/png": "[encoded data removed]",
      "text/plain": [
       "<Figure size 1296x360 with 1 Axes>"
      ]
     },
     "metadata": {},
     "output_type": "display_data"
    }
   ],
   "source": [
    "plain_char_count = Counter(\"\".join(plain_data[\"data\"]))\n",
    "ordered_plain_chars = list(zip(*sorted(plain_char_count.items(), key=lambda x: -x[1])))\n",
    "print(f\"{len(plain_char_count)} unique characters in plain texts\")\n",
    "plt.figure(figsize=(18,5))\n",
    "plt.bar(range(len(plain_char_count)), ordered_plain_chars[1])\n",
    "plt.xticks(range(len(plain_char_count)), ordered_plain_chars[0])\n",
    "plt.show()"
   ]
  },
  {
   "cell_type": "markdown",
   "metadata": {},
   "source": [
    "We can now create a correspondence mapping between both distributions."
   ]
  },
  {
   "cell_type": "code",
   "execution_count": 33,
   "metadata": {},
   "outputs": [
    {
     "data": {
      "text/plain": [
       "{'1': ' ',\n",
       " '\\x1b': 'e',\n",
       " 't': 't',\n",
       " 'O': 'a',\n",
       " '^': 'o',\n",
       " 'a': 'i',\n",
       " '\\x02': 'n',\n",
       " 'v': 's',\n",
       " '#': 'r',\n",
       " '0': 'h',\n",
       " '8': 'l',\n",
       " 's': '\\n',\n",
       " 'A': 'd',\n",
       " 'c': 'c',\n",
       " '_': 'u',\n",
       " '-': 'm',\n",
       " '\\x08': '.',\n",
       " 'q': '-',\n",
       " \"'\": 'p',\n",
       " 'o': 'g',\n",
       " 'd': 'y',\n",
       " ']': 'f',\n",
       " 'W': 'w',\n",
       " '\\x03': 'b',\n",
       " 'T': ',',\n",
       " 'z': '>',\n",
       " ':': 'v',\n",
       " '[': 'A',\n",
       " 'f': 'I',\n",
       " 'G': ':',\n",
       " 'L': 'k',\n",
       " '>': \"'\",\n",
       " '/': 'S',\n",
       " '{': '1',\n",
       " '\\\\': 'T',\n",
       " '2': '0',\n",
       " 'e': 'M',\n",
       " 'y': '=',\n",
       " ';': 'C',\n",
       " 'H': ')',\n",
       " '|': '(',\n",
       " '\\x1c': '*',\n",
       " '\\x1e': '2',\n",
       " 'x': 'X',\n",
       " '%': 'R',\n",
       " '\\x7f': 'P',\n",
       " '9': 'D',\n",
       " 'Z': 'N',\n",
       " 'Q': 'O',\n",
       " 'E': '3',\n",
       " 'F': '_',\n",
       " 'u': 'E',\n",
       " 'b': '@',\n",
       " 'J': 'L',\n",
       " ')': '\"',\n",
       " '6': 'B',\n",
       " 'g': '9',\n",
       " '*': 'F',\n",
       " '<': 'H',\n",
       " '\\t': '\\t',\n",
       " ',': '4',\n",
       " '+': '5',\n",
       " 'l': 'W',\n",
       " '5': 'G',\n",
       " 'X': '6',\n",
       " 'n': 'x',\n",
       " '@': 'U',\n",
       " '\"': '8',\n",
       " '&': '/',\n",
       " 'h': '?',\n",
       " '\\x06': 'j',\n",
       " '?': '7',\n",
       " '}': 'z',\n",
       " '4': 'J',\n",
       " '(': 'K',\n",
       " 'P': 'V',\n",
       " 'w': '!',\n",
       " '\\x18': '|',\n",
       " '\\x10': '<',\n",
       " ' ': 'Y',\n",
       " '!': '+',\n",
       " '~': '^',\n",
       " '\\x1a': '$',\n",
       " '.': '#',\n",
       " 'B': 'Q',\n",
       " '`': ';',\n",
       " '3': '%',\n",
       " '\\x0c': '\\\\',\n",
       " 'V': 'q',\n",
       " 'm': ']',\n",
       " 'i': '[',\n",
       " 'U': 'Z',\n",
       " 'r': '&',\n",
       " 'K': '`',\n",
       " 'Y': '~',\n",
       " 'I': '}',\n",
       " 'k': '{',\n",
       " '$': '\\r',\n",
       " 'p': '\\x08',\n",
       " 'D': '\\x02',\n",
       " 'S': '\\x0c',\n",
       " '=': 'º'}"
      ]
     },
     "execution_count": 33,
     "metadata": {},
     "output_type": "execute_result"
    }
   ],
   "source": [
    "cipher_to_plain = dict(zip(ordered_cipher_chars[0], ordered_plain_chars[0]))\n",
    "cipher_to_plain"
   ]
  }
 ],
 "metadata": {
  "kernelspec": {
   "display_name": "Python 3",
   "language": "python",
   "name": "python3"
  },
  "language_info": {
   "codemirror_mode": {
    "name": "ipython",
    "version": 3
   },
   "file_extension": ".py",
   "mimetype": "text/x-python",
   "name": "python",
   "nbconvert_exporter": "python",
   "pygments_lexer": "ipython3",
   "version": "3.6.6"
  }
 },
 "nbformat": 4,
 "nbformat_minor": 2
}
